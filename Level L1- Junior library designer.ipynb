{
 "cells": [
  {
   "cell_type": "markdown",
   "metadata": {},
   "source": [
    "# Level L1: Junior library designer\n",
    "Taken from [Odersky's suggestion](http://www.scala-lang.org/old/node/8610)\n",
    "\n",
    "* Type parameters\n",
    "* Traits\n",
    "* Lazy vals\n",
    "* Control abstraction, currying\n",
    "* By-name parameters\n",
    "\n",
    "Providing examples of each of the concepts - under my personal criteria"
   ]
  },
  {
   "cell_type": "markdown",
   "metadata": {},
   "source": [
    "### Type parameters"
   ]
  },
  {
   "cell_type": "code",
   "execution_count": 9,
   "metadata": {
    "collapsed": false
   },
   "outputs": [
    {
     "data": {
      "text/plain": [
       "defined \u001b[32mtype\u001b[39m \u001b[36mOptionTuple2\u001b[39m\r\n",
       "\u001b[36mcompletelyFilled\u001b[39m: \u001b[32mwrapper\u001b[39m.\u001b[32mwrapper\u001b[39m.\u001b[32mOptionTuple2\u001b[39m = Some((1,Some(5)))\r\n",
       "\u001b[36mpartiallyFilled\u001b[39m: \u001b[32mwrapper\u001b[39m.\u001b[32mwrapper\u001b[39m.\u001b[32mOptionTuple2\u001b[39m = Some((1,None))\r\n",
       "\u001b[36mcompletelyEmpty\u001b[39m: \u001b[32mwrapper\u001b[39m.\u001b[32mwrapper\u001b[39m.\u001b[32mOptionTuple2\u001b[39m = None\r\n",
       "defined \u001b[32mfunction\u001b[39m \u001b[36mmultiplyNums\u001b[39m\r\n",
       "\u001b[36mnumsMultiplied\u001b[39m: \u001b[32mOption\u001b[39m[\u001b[32mInt\u001b[39m] = \u001b[33mSome\u001b[39m(\u001b[32m5\u001b[39m)"
      ]
     },
     "execution_count": 9,
     "metadata": {},
     "output_type": "execute_result"
    }
   ],
   "source": [
    "type OptionTuple2 = Option[(Int, Option[Int])]\n",
    "\n",
    "val completelyFilled: OptionTuple2 = Some(1, Some(5))\n",
    "val partiallyFilled: OptionTuple2 = Some(1, None)\n",
    "val completelyEmpty: OptionTuple2 = None\n",
    "\n",
    "def multiplyNums(someNums: OptionTuple2) = for {\n",
    "  nums <- someNums\n",
    "  secondNum <- nums._2\n",
    "} yield nums._1 * secondNum\n",
    "\n",
    "val numsMultiplied = multiplyNums(completelyFilled)"
   ]
  },
  {
   "cell_type": "markdown",
   "metadata": {},
   "source": [
    "### Traits"
   ]
  },
  {
   "cell_type": "code",
   "execution_count": null,
   "metadata": {
    "collapsed": true
   },
   "outputs": [],
   "source": []
  },
  {
   "cell_type": "markdown",
   "metadata": {},
   "source": [
    "### Lazy vals"
   ]
  },
  {
   "cell_type": "code",
   "execution_count": null,
   "metadata": {
    "collapsed": false
   },
   "outputs": [],
   "source": []
  },
  {
   "cell_type": "markdown",
   "metadata": {},
   "source": [
    "### Control abstraction, currying"
   ]
  },
  {
   "cell_type": "code",
   "execution_count": null,
   "metadata": {
    "collapsed": true
   },
   "outputs": [],
   "source": []
  },
  {
   "cell_type": "markdown",
   "metadata": {},
   "source": [
    "### By-name parameters"
   ]
  },
  {
   "cell_type": "code",
   "execution_count": null,
   "metadata": {
    "collapsed": true
   },
   "outputs": [],
   "source": []
  }
 ],
 "metadata": {
  "kernelspec": {
   "display_name": "Scala",
   "language": "scala",
   "name": "scala"
  },
  "language_info": {
   "codemirror_mode": "text/x-scala",
   "file_extension": ".scala",
   "mimetype": "text/x-scala",
   "name": "scala211",
   "nbconvert_exporter": "scala",
   "pygments_lexer": "scala",
   "version": "2.11.8"
  }
 },
 "nbformat": 4,
 "nbformat_minor": 2
}
