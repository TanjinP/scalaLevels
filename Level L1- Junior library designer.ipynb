{
 "cells": [
  {
   "cell_type": "markdown",
   "metadata": {},
   "source": [
    "# Level L1: Junior library designer\n",
    "Taken from [Odersky's suggestion](http://www.scala-lang.org/old/node/8610)\n",
    "\n",
    "* Type parameters\n",
    "* Traits\n",
    "* Lazy vals\n",
    "* Control abstraction, currying\n",
    "* By-name parameters\n",
    "\n",
    "Providing examples of each of the concepts - under my personal criteria"
   ]
  },
  {
   "cell_type": "markdown",
   "metadata": {},
   "source": [
    "### Type parameters"
   ]
  },
  {
   "cell_type": "code",
   "execution_count": 4,
   "metadata": {
    "collapsed": false
   },
   "outputs": [
    {
     "name": "stdout",
     "output_type": "stream",
     "text": [
      "Johnson is 20 years old\n"
     ]
    },
    {
     "data": {
      "text/plain": [
       "defined \u001b[32mtype\u001b[39m \u001b[36mAgeAndMiddleName\u001b[39m\r\n",
       "\u001b[36mcompletelyFilled\u001b[39m: \u001b[32mAgeAndMiddleName\u001b[39m = Some((20,Some(Johnson)))\r\n",
       "\u001b[36mpartiallyFilled\u001b[39m: \u001b[32mAgeAndMiddleName\u001b[39m = Some((25,None))\r\n",
       "\u001b[36mcompletelyEmpty\u001b[39m: \u001b[32mAgeAndMiddleName\u001b[39m = None\r\n",
       "defined \u001b[32mfunction\u001b[39m \u001b[36mretrieveInformation\u001b[39m"
      ]
     },
     "execution_count": 4,
     "metadata": {},
     "output_type": "execute_result"
    }
   ],
   "source": [
    "// defining custom type that is an Option Tuple2 which contains an Int and an Option String\n",
    "type AgeAndMiddleName = Option[(Int, Option[String])]\n",
    "\n",
    "// some ways of creating custom type OptionTuple2\n",
    "val completelyFilled: AgeAndMiddleName = Some(20, Some(\"Johnson\"))\n",
    "val partiallyFilled: AgeAndMiddleName = Some(25, None)\n",
    "val completelyEmpty: AgeAndMiddleName = None\n",
    "\n",
    "// obtaining information from the custom type via for comprehension\n",
    "def retrieveInformation(personInfo: AgeAndMiddleName) = for {\n",
    "  ageAndMiddle <- personInfo\n",
    "  middleName <- ageAndMiddle._2\n",
    "} yield s\"$middleName is ${ageAndMiddle._1} years old\"\n",
    "\n",
    "// printing output of the def with completed custom type\n",
    "retrieveInformation(completelyFilled).foreach(println)"
   ]
  },
  {
   "cell_type": "markdown",
   "metadata": {},
   "source": [
    "### Traits"
   ]
  },
  {
   "cell_type": "code",
   "execution_count": 3,
   "metadata": {
    "collapsed": false
   },
   "outputs": [
    {
     "data": {
      "text/plain": [
       "defined \u001b[32mtrait\u001b[39m \u001b[36mAddable\u001b[39m\r\n",
       "defined \u001b[32mobject\u001b[39m \u001b[36mIntAddables\u001b[39m\r\n",
       "defined \u001b[32mobject\u001b[39m \u001b[36mStringAddables\u001b[39m\r\n",
       "\u001b[36maddingInts\u001b[39m: \u001b[32mInt\u001b[39m = \u001b[32m15\u001b[39m\r\n",
       "\u001b[36maddingStrings\u001b[39m: \u001b[32mString\u001b[39m = \u001b[32m\" Hello there person, how are you?\"\u001b[39m"
      ]
     },
     "execution_count": 3,
     "metadata": {},
     "output_type": "execute_result"
    }
   ],
   "source": [
    "// creating a trait to be implemented that contains unimplemented def\n",
    "trait Addable[T] {\n",
    "  def adding(values: T*): T\n",
    "}\n",
    "\n",
    "// extending trait to be used with Ints, def has been implemented\n",
    "object IntAddables extends Addable[Int] {\n",
    "  override def adding(values: Int*): Int = values.sum\n",
    "}\n",
    "\n",
    "// extending trait to be used with Strings, def has been implemented\n",
    "object StringAddables extends Addable[String] {\n",
    "  override def adding(values: String*): String = values.foldLeft(\"\")((word, phrase) => s\"$word $phrase\")\n",
    "}\n",
    "\n",
    "\n",
    "val addingInts = IntAddables.adding(1, 2, 3, 4, 5)\n",
    "val addingStrings = StringAddables.adding(\"Hello\", \"there\", \"person,\", \"how\", \"are\", \"you?\")"
   ]
  },
  {
   "cell_type": "markdown",
   "metadata": {},
   "source": [
    "### Lazy vals"
   ]
  },
  {
   "cell_type": "code",
   "execution_count": 4,
   "metadata": {
    "collapsed": false
   },
   "outputs": [
    {
     "data": {
      "text/plain": [
       "\u001b[36ma\u001b[39m: \u001b[32mInt\u001b[39m = \u001b[32m100\u001b[39m\r\n",
       "\u001b[36mb\u001b[39m: \u001b[32mInt\u001b[39m = \u001b[32m<lazy>\u001b[39m\r\n",
       "\u001b[36mresult\u001b[39m: \u001b[32mInt\u001b[39m = \u001b[32m300\u001b[39m\r\n",
       "\u001b[36mres3_3\u001b[39m: \u001b[32mInt\u001b[39m = \u001b[32m200\u001b[39m"
      ]
     },
     "execution_count": 4,
     "metadata": {},
     "output_type": "execute_result"
    }
   ],
   "source": [
    "val a = 100        // regular declaration of val, executing immediately\n",
    "lazy val b = 200   // lazy declaration, will be executed when called (look at Out)\n",
    "val result = a + b // this is the first instance of b being executed\n",
    "b                  // another example of b being executed"
   ]
  },
  {
   "cell_type": "markdown",
   "metadata": {},
   "source": [
    "### Control abstraction, currying"
   ]
  },
  {
   "cell_type": "code",
   "execution_count": null,
   "metadata": {
    "collapsed": true
   },
   "outputs": [],
   "source": []
  },
  {
   "cell_type": "markdown",
   "metadata": {},
   "source": [
    "### By-name parameters"
   ]
  },
  {
   "cell_type": "code",
   "execution_count": null,
   "metadata": {
    "collapsed": true
   },
   "outputs": [],
   "source": []
  }
 ],
 "metadata": {
  "kernelspec": {
   "display_name": "Scala",
   "language": "scala",
   "name": "scala"
  },
  "language_info": {
   "codemirror_mode": "text/x-scala",
   "file_extension": ".scala",
   "mimetype": "text/x-scala",
   "name": "scala211",
   "nbconvert_exporter": "script",
   "pygments_lexer": "scala",
   "version": "2.11.11"
  }
 },
 "nbformat": 4,
 "nbformat_minor": 2
}
