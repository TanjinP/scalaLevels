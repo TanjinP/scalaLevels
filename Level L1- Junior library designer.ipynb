{
 "cells": [
  {
   "cell_type": "markdown",
   "metadata": {},
   "source": [
    "# Level L1: Junior library designer\n",
    "Taken from [Odersky's suggestion](http://www.scala-lang.org/old/node/8610)\n",
    "\n",
    "* Type parameters\n",
    "* Traits\n",
    "* Lazy vals\n",
    "* Control abstraction, currying\n",
    "* By-name parameters\n",
    "\n",
    "Providing examples of each of the concepts - under my personal criteria"
   ]
  },
  {
   "cell_type": "markdown",
   "metadata": {},
   "source": [
    "### Type parameters"
   ]
  },
  {
   "cell_type": "code",
   "execution_count": 4,
   "metadata": {
    "collapsed": false
   },
   "outputs": [
    {
     "name": "stdout",
     "output_type": "stream",
     "text": [
      "Johnson is 20 years old\n"
     ]
    },
    {
     "data": {
      "text/plain": [
       "defined \u001b[32mtype\u001b[39m \u001b[36mAgeAndMiddleName\u001b[39m\r\n",
       "\u001b[36mcompletelyFilled\u001b[39m: \u001b[32mAgeAndMiddleName\u001b[39m = Some((20,Some(Johnson)))\r\n",
       "\u001b[36mpartiallyFilled\u001b[39m: \u001b[32mAgeAndMiddleName\u001b[39m = Some((25,None))\r\n",
       "\u001b[36mcompletelyEmpty\u001b[39m: \u001b[32mAgeAndMiddleName\u001b[39m = None\r\n",
       "defined \u001b[32mfunction\u001b[39m \u001b[36mretrieveInformation\u001b[39m"
      ]
     },
     "execution_count": 4,
     "metadata": {},
     "output_type": "execute_result"
    }
   ],
   "source": [
    "// defining custom type that is an Option Tuple2 which contains an Int and an Option String\n",
    "type AgeAndMiddleName = Option[(Int, Option[String])]\n",
    "\n",
    "// some ways of creating custom type OptionTuple2\n",
    "val completelyFilled: AgeAndMiddleName = Some(20, Some(\"Johnson\"))\n",
    "val partiallyFilled: AgeAndMiddleName = Some(25, None)\n",
    "val completelyEmpty: AgeAndMiddleName = None\n",
    "\n",
    "// obtaining information from the custom type via for comprehension\n",
    "def retrieveInformation(personInfo: AgeAndMiddleName) = for {\n",
    "  ageAndMiddle <- personInfo\n",
    "  middleName <- ageAndMiddle._2\n",
    "} yield s\"$middleName is ${ageAndMiddle._1} years old\"\n",
    "\n",
    "// printing output of the def with completed custom type\n",
    "retrieveInformation(completelyFilled).foreach(println)"
   ]
  },
  {
   "cell_type": "markdown",
   "metadata": {},
   "source": [
    "### Traits"
   ]
  },
  {
   "cell_type": "code",
   "execution_count": null,
   "metadata": {
    "collapsed": true
   },
   "outputs": [],
   "source": []
  },
  {
   "cell_type": "markdown",
   "metadata": {},
   "source": [
    "### Lazy vals"
   ]
  },
  {
   "cell_type": "code",
   "execution_count": null,
   "metadata": {
    "collapsed": false
   },
   "outputs": [],
   "source": []
  },
  {
   "cell_type": "markdown",
   "metadata": {},
   "source": [
    "### Control abstraction, currying"
   ]
  },
  {
   "cell_type": "code",
   "execution_count": null,
   "metadata": {
    "collapsed": true
   },
   "outputs": [],
   "source": []
  },
  {
   "cell_type": "markdown",
   "metadata": {},
   "source": [
    "### By-name parameters"
   ]
  },
  {
   "cell_type": "code",
   "execution_count": null,
   "metadata": {
    "collapsed": true
   },
   "outputs": [],
   "source": []
  }
 ],
 "metadata": {
  "kernelspec": {
   "display_name": "Scala",
   "language": "scala",
   "name": "scala"
  },
  "language_info": {
   "codemirror_mode": "text/x-scala",
   "file_extension": ".scala",
   "mimetype": "text/x-scala",
   "name": "scala211",
   "nbconvert_exporter": "scala",
   "pygments_lexer": "scala",
   "version": "2.11.8"
  }
 },
 "nbformat": 4,
 "nbformat_minor": 2
}
