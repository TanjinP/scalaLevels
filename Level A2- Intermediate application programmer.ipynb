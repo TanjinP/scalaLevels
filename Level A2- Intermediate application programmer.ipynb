{
 "cells": [
  {
   "cell_type": "markdown",
   "metadata": {},
   "source": [
    "# Level A2: Intermediate application programmer\n",
    "Taken from [Odersky's suggestion](http://www.scala-lang.org/old/node/8610)\n",
    "\n",
    "* Pattern matching\n",
    "* Trait composition\n",
    "* Recursion, in particular tail recursion\n",
    "* XML literals\n",
    "\n",
    "Providing examples of each of the concepts - under my personal criteria"
   ]
  },
  {
   "cell_type": "markdown",
   "metadata": {},
   "source": [
    "### Pattern matching"
   ]
  },
  {
   "cell_type": "code",
   "execution_count": 4,
   "metadata": {
    "collapsed": false
   },
   "outputs": [
    {
     "name": "stdout",
     "output_type": "stream",
     "text": [
      "We have an Int here that is: 8\r\n",
      "We have a Float here that is: 4.0\r\n",
      "We have a Boolean here that is: false\r\n"
     ]
    },
    {
     "data": {
      "text/plain": [
       "\u001b[36msum\u001b[39m: \u001b[32mInt\u001b[39m = \u001b[32m8\u001b[39m\r\n",
       "\u001b[36mdivide\u001b[39m: \u001b[32mFloat\u001b[39m = \u001b[32m4.0F\u001b[39m\r\n",
       "\u001b[36misGreater\u001b[39m: \u001b[32mBoolean\u001b[39m = \u001b[32mfalse\u001b[39m\r\n",
       "\u001b[36mmatcher\u001b[39m: \u001b[32mAnyVal\u001b[39m => \u001b[32mUnit\u001b[39m = <function1>"
      ]
     },
     "execution_count": 4,
     "metadata": {},
     "output_type": "execute_result"
    }
   ],
   "source": [
    "val sum = 1 + 7\n",
    "val divide = 20f / 5f\n",
    "val isGreater = 1 > 2\n",
    "\n",
    "val matcher = (x: AnyVal) => x match {\n",
    "  case number: Int => println(s\"We have an Int here that is: $number\")\n",
    "  case float: Float => println(s\"We have a Float here that is: $float\")\n",
    "  case boolean: Boolean => println(s\"We have a Boolean here that is: $boolean\")\n",
    "}\n",
    "\n",
    "matcher(sum)\n",
    "matcher(divide)\n",
    "matcher(isGreater)\n"
   ]
  },
  {
   "cell_type": "markdown",
   "metadata": {},
   "source": [
    "### Trait composition"
   ]
  },
  {
   "cell_type": "code",
   "execution_count": null,
   "metadata": {
    "collapsed": true
   },
   "outputs": [],
   "source": []
  },
  {
   "cell_type": "markdown",
   "metadata": {},
   "source": [
    "### Recursion, in particular tail recursion"
   ]
  },
  {
   "cell_type": "code",
   "execution_count": null,
   "metadata": {
    "collapsed": false
   },
   "outputs": [],
   "source": []
  },
  {
   "cell_type": "markdown",
   "metadata": {},
   "source": [
    "### XML literals"
   ]
  },
  {
   "cell_type": "code",
   "execution_count": null,
   "metadata": {
    "collapsed": true
   },
   "outputs": [],
   "source": []
  }
 ],
 "metadata": {
  "kernelspec": {
   "display_name": "Scala",
   "language": "scala",
   "name": "scala"
  },
  "language_info": {
   "codemirror_mode": "text/x-scala",
   "file_extension": ".scala",
   "mimetype": "text/x-scala",
   "name": "scala211",
   "nbconvert_exporter": "scala",
   "pygments_lexer": "scala",
   "version": "2.11.8"
  }
 },
 "nbformat": 4,
 "nbformat_minor": 2
}
