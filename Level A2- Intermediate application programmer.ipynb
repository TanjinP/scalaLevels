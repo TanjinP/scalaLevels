{
 "cells": [
  {
   "cell_type": "markdown",
   "metadata": {},
   "source": [
    "# Level A2: Intermediate application programmer\n",
    "Taken from [Odersky's suggestion](http://www.scala-lang.org/old/node/8610)\n",
    "\n",
    "* Pattern matching\n",
    "* Trait composition\n",
    "* Recursion, in particular tail recursion\n",
    "* XML literals\n",
    "\n",
    "Providing examples of each of the concepts - under my personal criteria"
   ]
  },
  {
   "cell_type": "markdown",
   "metadata": {},
   "source": [
    "### Pattern matching"
   ]
  },
  {
   "cell_type": "code",
   "execution_count": 18,
   "metadata": {
    "collapsed": false
   },
   "outputs": [
    {
     "name": "stdout",
     "output_type": "stream",
     "text": [
      "We are in the basic pattern matching segment\n",
      "We have an Int here that has value: 8\n",
      "We have a Float here that has value: 4.0\n",
      "We have a Boolean here that has value: false\n",
      "We have a Char here that has value: t\n",
      "Unknown type for matcher def, we have type: class java.lang.Byte\n",
      "End of basic pattern matching segment \n",
      "\n",
      "We are in the tuples pattern matching segment\n",
      "Here is Sally, and she can vote.\n",
      "Here is Tim, and he can not vote.\n",
      "End of tuples pattern matching segment \n",
      "\n",
      "We are in the Generics pattern matching segment\n",
      "Looks like we have a List of Ints\n",
      "Looks like we have a List of Strings\n",
      "Looks like we have a List of class java.lang.Character\n",
      "Looks like we have an empty List\n",
      "End of Generics pattern matching segment \n",
      "\n"
     ]
    },
    {
     "data": {
      "text/plain": [
       "\u001b[36msum\u001b[39m: \u001b[32mInt\u001b[39m = \u001b[32m8\u001b[39m\r\n",
       "\u001b[36mdivide\u001b[39m: \u001b[32mFloat\u001b[39m = \u001b[32m4.0F\u001b[39m\r\n",
       "\u001b[36misGreater\u001b[39m: \u001b[32mBoolean\u001b[39m = \u001b[32mfalse\u001b[39m\r\n",
       "\u001b[36mchar\u001b[39m: \u001b[32mChar\u001b[39m = \u001b[32m't'\u001b[39m\r\n",
       "defined \u001b[32mfunction\u001b[39m \u001b[36mmatcher\u001b[39m\r\n",
       "\u001b[36msally\u001b[39m: (\u001b[32mString\u001b[39m, \u001b[32mInt\u001b[39m, \u001b[32mBoolean\u001b[39m) = (\u001b[32m\"Sally\"\u001b[39m, \u001b[32m25\u001b[39m, \u001b[32mtrue\u001b[39m)\r\n",
       "\u001b[36mtim\u001b[39m: (\u001b[32mString\u001b[39m, \u001b[32mInt\u001b[39m, \u001b[32mBoolean\u001b[39m) = (\u001b[32m\"Tim\"\u001b[39m, \u001b[32m17\u001b[39m, \u001b[32mfalse\u001b[39m)\r\n",
       "defined \u001b[32mfunction\u001b[39m \u001b[36mtupleMatcher\u001b[39m\r\n",
       "defined \u001b[32mfunction\u001b[39m \u001b[36mtupleMatcherPart2\u001b[39m\r\n",
       "\u001b[36mnums\u001b[39m: \u001b[32mList\u001b[39m[\u001b[32mInt\u001b[39m] = \u001b[33mList\u001b[39m(\u001b[32m1\u001b[39m, \u001b[32m2\u001b[39m, \u001b[32m3\u001b[39m)\r\n",
       "\u001b[36mnames\u001b[39m: \u001b[32mList\u001b[39m[\u001b[32mString\u001b[39m] = \u001b[33mList\u001b[39m(\u001b[32m\"Apple\"\u001b[39m, \u001b[32m\"Banana\"\u001b[39m, \u001b[32m\"Carrot\"\u001b[39m)\r\n",
       "\u001b[36mchars\u001b[39m: \u001b[32mList\u001b[39m[\u001b[32mChar\u001b[39m] = \u001b[33mList\u001b[39m(\u001b[32m'a'\u001b[39m, \u001b[32m'b'\u001b[39m)\r\n",
       "defined \u001b[32mfunction\u001b[39m \u001b[36mlistMatcher\u001b[39m"
      ]
     },
     "execution_count": 18,
     "metadata": {},
     "output_type": "execute_result"
    }
   ],
   "source": [
    "// instantiating a variety of AnyVals (Int, Float, Boolean, and Char)\n",
    "println(\"We are in the basic pattern matching segment\")\n",
    "val sum: Int = 1 + 7\n",
    "val divide: Float = 20f / 5f\n",
    "val isGreater: Boolean = 1 > 2\n",
    "val char: Char = 't'\n",
    "\n",
    "// method takes in input x and matches on it based on the type (limited to only 4) then prints it\n",
    "def matcher(a: AnyVal) = a match {\n",
    "  case number: Int => println(s\"We have an Int here that has value: $number\")\n",
    "  case float: Float => println(s\"We have a Float here that has value: $float\")\n",
    "  case boolean: Boolean => println(s\"We have a Boolean here that has value: $boolean\")\n",
    "  case character: Char => println(s\"We have a Char here that has value: $character\")\n",
    "  case x => println(s\"Unknown type for matcher def, we have type: ${x.getClass}\")\n",
    "}\n",
    "\n",
    "matcher(sum)       // matches case number\n",
    "matcher(divide)    // matches case float\n",
    "matcher(isGreater) // matches case boolean\n",
    "matcher(char)      // matches case character\n",
    "matcher(1: Byte)   // matches case x\n",
    "println(\"End of basic pattern matching segment \\n\")\n",
    "\n",
    "// pattern matching with Tuples with if guard\n",
    "println(\"We are in the tuples pattern matching segment\")\n",
    "val sally: (String, Int, Boolean) = (\"Sally\", 25, true)\n",
    "val tim = (\"Tim\", 17, false)\n",
    "\n",
    "def tupleMatcher(a: (String, Int, Boolean)) = a match {\n",
    "  case (name, age, isFemale) if age > 18 && isFemale => println(s\"Here is $name, and she can vote.\")\n",
    "  case (name, age, isFemale) if age < 18 && isFemale => println(s\"Here is $name, and she can not vote.\")\n",
    "  case (name, age, isFemale) if age > 18 && !isFemale => println(s\"Here is $name, and he can vote.\")\n",
    "  case (name, age, isFemale) if age < 18 && !isFemale => println(s\"Here is $name, and he can not vote.\")\n",
    "}\n",
    "\n",
    "// there is a lot of repetition, we can make def above less verbous by adding a def\n",
    "def tupleMatcherPart2(a: (String, Int, Boolean)) = {\n",
    "  def gender(isFemale: Boolean) = if(isFemale) \"she\" else \"he\"\n",
    "  a match {\n",
    "    case (name, age, isFemale) if age > 18 => println(s\"Here is $name, and ${gender(isFemale)} can vote.\")\n",
    "    case (name, age, isFemale) if age < 18 => println(s\"Here is $name, and ${gender(isFemale)} can not vote.\")\n",
    "  }\n",
    "}\n",
    "\n",
    "tupleMatcher(sally)\n",
    "tupleMatcherPart2(tim)\n",
    "println(\"End of tuples pattern matching segment \\n\")\n",
    "\n",
    "// pattern matching with Generics\n",
    "println(\"We are in the Generics pattern matching segment\")\n",
    "val nums = List(1, 2, 3)\n",
    "val names = List(\"Apple\", \"Banana\", \"Carrot\")\n",
    "val chars = List('a', 'b')\n",
    "\n",
    "def listMatcher[A](a: List[A]) = a match {\n",
    "  case ((num: Int) :: _) => println(\"Looks like we have a List of Ints\")\n",
    "  case ((string: String) :: _) => println(\"Looks like we have a List of Strings\")\n",
    "  // the following case can be a substitute for the above 2 cases\n",
    "  case (t :: _) => println(s\"Looks like we have a List of ${t.getClass}\")\n",
    "  case Nil => println(\"Looks like we have an empty List\")\n",
    "}\n",
    "\n",
    "listMatcher(nums)\n",
    "listMatcher(names)\n",
    "listMatcher(chars)\n",
    "listMatcher(List.empty)\n",
    "println(\"End of Generics pattern matching segment \\n\")"
   ]
  },
  {
   "cell_type": "markdown",
   "metadata": {},
   "source": [
    "### Trait composition"
   ]
  },
  {
   "cell_type": "code",
   "execution_count": null,
   "metadata": {
    "collapsed": true
   },
   "outputs": [],
   "source": []
  },
  {
   "cell_type": "markdown",
   "metadata": {},
   "source": [
    "### Recursion, in particular tail recursion"
   ]
  },
  {
   "cell_type": "code",
   "execution_count": 2,
   "metadata": {
    "collapsed": false
   },
   "outputs": [
    {
     "name": "stdout",
     "output_type": "stream",
     "text": [
      "Finding the max in a list of 0 to 500: 500\n",
      "Computing Fibonacci series for 0 to 15: Vector(0, 1, 1, 2, 3, 5, 8, 13, 21, 34, 55, 89, 144, 233, 377, 610)\n"
     ]
    },
    {
     "data": {
      "text/plain": [
       "defined \u001b[32mfunction\u001b[39m \u001b[36mfindMax\u001b[39m\r\n",
       "defined \u001b[32mfunction\u001b[39m \u001b[36mfib\u001b[39m"
      ]
     },
     "execution_count": 2,
     "metadata": {},
     "output_type": "execute_result"
    }
   ],
   "source": [
    "// Finding the max Int in a List\n",
    "def findMax(xs: List[Int]): Int = {\n",
    "  @annotation.tailrec  // annotation for compiler to note tail recursion\n",
    "  def go(ys: List[Int], max: Int): Int = ys match {\n",
    "    case head :: tail => go(tail, if (head > max) head else max) // call is entirely recursive \n",
    "    case Nil => max\n",
    "  }\n",
    "  go(xs, Int.MinValue)\n",
    "}\n",
    "println(s\"Finding the max in a list of 0 to 500: ${findMax(util.Random.shuffle(1 to 500 toList))}\")\n",
    "\n",
    "// Fibonacci Series (https://en.wikipedia.org/wiki/Fibonacci_number)\n",
    "def fib(n: Int): Int = {\n",
    "  @annotation.tailrec \n",
    "  def go(n: Int, current: Int, next: Int): Int = {\n",
    "    if (n < 0) throw new Exception(\"n must be greater than 0\")\n",
    "    else if (n == 0) current\n",
    "    else go(n - 1, next, current + next) // recursion - tail because no other function is applied\n",
    "  }\n",
    "  go(n, 0, 1)\n",
    "}\n",
    "println(s\"Computing Fibonacci series for 0 to 15: ${0 to 15 map fib}\")"
   ]
  },
  {
   "cell_type": "markdown",
   "metadata": {},
   "source": [
    "### XML literals"
   ]
  },
  {
   "cell_type": "code",
   "execution_count": null,
   "metadata": {
    "collapsed": true
   },
   "outputs": [],
   "source": []
  }
 ],
 "metadata": {
  "kernelspec": {
   "display_name": "Scala",
   "language": "scala",
   "name": "scala"
  },
  "language_info": {
   "codemirror_mode": "text/x-scala",
   "file_extension": ".scala",
   "mimetype": "text/x-scala",
   "name": "scala211",
   "nbconvert_exporter": "scala",
   "pygments_lexer": "scala",
   "version": "2.11.8"
  }
 },
 "nbformat": 4,
 "nbformat_minor": 2
}
