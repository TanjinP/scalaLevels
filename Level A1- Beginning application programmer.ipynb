{
 "cells": [
  {
   "cell_type": "markdown",
   "metadata": {},
   "source": [
    "# Level A1: Beginning application programmer\n",
    "Taken from [Odersky's suggestion](http://www.scala-lang.org/old/node/8610)\n",
    "\n",
    "* Java-like statements and expressions: standard operators, method calls, conditionals, loops, try/catch\n",
    "* class, object, def, val, var, import, package\n",
    "* Infix notation for method calls\n",
    "* Simple closures\n",
    "* Collections with map, filter, etc\n",
    "* for-expressions\n",
    "\n",
    "Providing examples of each of the concepts - under my personal criteria"
   ]
  },
  {
   "cell_type": "markdown",
   "metadata": {},
   "source": [
    "### Java-like statements and expressions: standard operators, method calls, conditionals, loops, try/catch"
   ]
  },
  {
   "cell_type": "code",
   "execution_count": 6,
   "metadata": {
    "collapsed": false
   },
   "outputs": [
    {
     "name": "stdout",
     "output_type": "stream",
     "text": [
      "We are in the conditionals segment\r\n",
      "Adding 2 isn't going to cut it\r\n",
      "End of conditionals segment \n",
      "\r\n",
      "We are in the loops segment\r\n",
      "This is iteration number: 1\r\n",
      "This is iteration number: 2\r\n",
      "This is iteration number: 3\r\n",
      "This is iteration number: 4\r\n",
      "This is iteration number: 5\r\n",
      "Iterating once again, iteration number: 0\r\n",
      "Iterating once again, iteration number: 1\r\n",
      "Iterating once again, iteration number: 2\r\n",
      "End of loops segment \n",
      "\r\n",
      "We are in try/catch segment\r\n",
      "empty.max will throw an UnsupportedOperationException\r\n",
      "End of try/catch segment\r\n"
     ]
    },
    {
     "data": {
      "text/plain": [
       "\u001b[36madding\u001b[39m: \u001b[32mInt\u001b[39m = \u001b[32m8\u001b[39m\r\n",
       "\u001b[36mnegative\u001b[39m: \u001b[32mInt\u001b[39m = \u001b[32m-4\u001b[39m\r\n",
       "\u001b[36misHigherNum\u001b[39m: \u001b[32mBoolean\u001b[39m = \u001b[32mtrue\u001b[39m\r\n",
       "\u001b[36mshouldBeTrue\u001b[39m: \u001b[32mBoolean\u001b[39m = \u001b[32mtrue\u001b[39m\r\n",
       "defined \u001b[32mfunction\u001b[39m \u001b[36maddTwo\u001b[39m\r\n",
       "\u001b[36mgoingToAdd2\u001b[39m: \u001b[32mInt\u001b[39m = \u001b[32m4\u001b[39m\r\n",
       "\u001b[36mj\u001b[39m: \u001b[32mInt\u001b[39m = \u001b[32m3\u001b[39m\r\n",
       "\u001b[36mres5_15\u001b[39m: \u001b[32mAnyVal\u001b[39m = ()"
      ]
     },
     "execution_count": 6,
     "metadata": {},
     "output_type": "execute_result"
    }
   ],
   "source": [
    "// some standard operators (assignment, arithmetic, relational, logical)\n",
    "val adding = 1 + 7\n",
    "val negative = 1 + -5\n",
    "val isHigherNum = 5 > 1\n",
    "val shouldBeTrue = (1 > 0) || (4 == 2)\n",
    "\n",
    "// method call\n",
    "def addTwo(numToAdd: Int) = numToAdd + 2\n",
    "val goingToAdd2 = addTwo(2)  // will call addTwo method which takes in Int 2 as a parameter and will return Int 4\n",
    "\n",
    "// conditionals\n",
    "println(\"We are in the conditionals segment\")\n",
    "if(addTwo(5) > 10) println(\"Looks like you met the requirement\") else println(\"Adding 2 isn't going to cut it\")\n",
    "println(\"End of conditionals segment \\n\")\n",
    "\n",
    "// loops\n",
    "println(\"We are in the loops segment\")\n",
    "for (i <- 1 to 5) println(s\"This is iteration number: $i\") // loops from 1 to 5 (inclusive on range and prints line each loop)\n",
    "var j = 0\n",
    "while (j < 3) { println(s\"Iterating once again, iteration number: $j\"); j += 1 } // ';' character is used when multiple statements are a ingle line\n",
    "println(\"End of loops segment \\n\")\n",
    "\n",
    "// try/catch\n",
    "println(\"We are in try/catch segment\")\n",
    "try {\n",
    "  val emptyList: List[Int] = List()  // creating an empty List\n",
    "  emptyList.max  // not possible to find a max in an empty List\n",
    "} catch {\n",
    "  case e: UnsupportedOperationException => println(e.getLocalizedMessage + \" will throw an UnsupportedOperationException\")\n",
    "}\n",
    "println(\"End of try/catch segment\")"
   ]
  },
  {
   "cell_type": "markdown",
   "metadata": {},
   "source": [
    "### class, object, def, val, var, import, package"
   ]
  },
  {
   "cell_type": "code",
   "execution_count": 1,
   "metadata": {
    "collapsed": false
   },
   "outputs": [
    {
     "name": "stderr",
     "output_type": "stream",
     "text": [
      "cmd1.sc:56: object Helper is not a member of package $sess\n",
      "lazy val Helper: _root_.$sess.Helper.wrapper.type = _root_.$sess.Helper.wrapper\n",
      "                              ^cmd1.sc:56: object Helper is not a member of package $sess\n",
      "lazy val Helper: _root_.$sess.Helper.wrapper.type = _root_.$sess.Helper.wrapper\n",
      "                                                                 ^cmd1.sc:148: object Helper is not a member of package $sess\n",
      "lazy val Helper: _root_.$sess.Helper.wrapper.type = _root_.$sess.Helper.wrapper\n",
      "                              ^cmd1.sc:148: object Helper is not a member of package $sess\n",
      "lazy val Helper: _root_.$sess.Helper.wrapper.type = _root_.$sess.Helper.wrapper\n",
      "                                                                 ^"
     ]
    },
    {
     "ename": "",
     "evalue": "",
     "output_type": "error",
     "traceback": [
      "Compilation Failed"
     ]
    }
   ],
   "source": [
    "class Person(\n",
    "  var name: String,\n",
    "  var age: Int)  // defined a class for person (can think of as POJO, using var because they will be mutable -> more on this below)\n",
    "\n",
    "val person = new Person(\"Tanjin\", 25)  // instantiated a new Person, note a val is used -> cannot reassign person to a different Person\n",
    "println(s\"My name is ${person.name} and I am ${person.age} years old\") // using String interpolation to access values from person\n",
    "\n",
    "var changingPerson = new Person(\"Panna\", 20)  // instantiated a new Person with the age 20, note a var is used\n",
    "changingPerson.age = 21  // changed the age to 21 -> this is possible because we have a var (mutable), with a val (immutable) this is not possible\n",
    "println(s\"Today was my birthday, I am now ${changingPerson.age} years old\")\n",
    "\n",
    "val oldName = changingPerson.name  // storing the name of changingPerson\n",
    "changingPerson = new Person(\"Joe\", 30) // changingPerson is now a completely different person, possible because of var. The type (Person) must be preserved\n",
    "println(s\"changingPerson is completely different now, before his name was $oldName, now it's ${changingPerson.name}\")\n",
    "\n",
    "object Person { // defined a Person object -> can be thought of as a 'companion' object, like containing utils for the Person class\n",
    "  // defined a method to change the name of a person given a new name and the person, we then return the new name\n",
    "  def changeName(name: String, person: Person): String = { person.name = name; person.name } \n",
    "}\n",
    "\n",
    "val newName = \"John\"  // storing the new name I want\n",
    "// using String interpolation to call methods, notice the object method call (Person.changeName(newName, person))\n",
    "println(s\"My name is ${person.name} but I am going to change it to ${Person.changeName(newName, person)}\")\n",
    "\n",
    "// like Java, we can importa class or a method in this case for easier calling\n",
    "import Person.changeName\n",
    "val originalName = \"Tanjin\"\n",
    "// we see here that we don't need the fully qualified def name, since we have imported it\n",
    "println(s\"My name is ${person.name} but I prefer my old name, so I'll change again to ${changeName(originalName, person)}\")"
   ]
  },
  {
   "cell_type": "markdown",
   "metadata": {},
   "source": [
    "### Infix notation for method calls"
   ]
  },
  {
   "cell_type": "code",
   "execution_count": 2,
   "metadata": {
    "collapsed": false
   },
   "outputs": [
    {
     "data": {
      "text/plain": [
       "\u001b[36maddingNums\u001b[39m: \u001b[32mInt\u001b[39m = \u001b[32m2\u001b[39m\r\n",
       "defined \u001b[32mfunction\u001b[39m \u001b[36maddOne\u001b[39m\r\n",
       "\u001b[36maddingWFunction\u001b[39m: \u001b[32mOption\u001b[39m[\u001b[32mInt\u001b[39m] = \u001b[33mSome\u001b[39m(\u001b[32m2\u001b[39m)"
      ]
     },
     "execution_count": 2,
     "metadata": {},
     "output_type": "execute_result"
    }
   ],
   "source": [
    "val addingNums = 1 + 1   // infix notation with an AnyVal\n",
    "// alternatively without infix notation: val addingNums = 1.+(1)\n",
    "\n",
    "def addOne(num: Int) = num + 1\n",
    "val addingWFunction = Some(1) map addOne  //infix notation with a function (addOne)\n",
    "// alternatively without infix notation: val addingWFunction = Some(1).map(addOne)"
   ]
  },
  {
   "cell_type": "markdown",
   "metadata": {},
   "source": [
    "### Simple closures"
   ]
  },
  {
   "cell_type": "code",
   "execution_count": null,
   "metadata": {
    "collapsed": true
   },
   "outputs": [],
   "source": []
  },
  {
   "cell_type": "markdown",
   "metadata": {},
   "source": [
    "### Collections with map, filter, etc"
   ]
  },
  {
   "cell_type": "code",
   "execution_count": 15,
   "metadata": {
    "collapsed": false
   },
   "outputs": [
    {
     "data": {
      "text/plain": [
       "\u001b[36mnums\u001b[39m: \u001b[32mList\u001b[39m[\u001b[32mInt\u001b[39m] = \u001b[33mList\u001b[39m(\u001b[32m1\u001b[39m, \u001b[32m2\u001b[39m, \u001b[32m3\u001b[39m, \u001b[32m4\u001b[39m, \u001b[32m5\u001b[39m, \u001b[32m6\u001b[39m)\r\n",
       "\u001b[36mnumsX2\u001b[39m: \u001b[32mList\u001b[39m[\u001b[32mInt\u001b[39m] = \u001b[33mList\u001b[39m(\u001b[32m2\u001b[39m, \u001b[32m4\u001b[39m, \u001b[32m6\u001b[39m, \u001b[32m8\u001b[39m, \u001b[32m10\u001b[39m, \u001b[32m12\u001b[39m)\r\n",
       "\u001b[36monlyEvenNums\u001b[39m: \u001b[32mList\u001b[39m[\u001b[32mInt\u001b[39m] = \u001b[33mList\u001b[39m(\u001b[32m2\u001b[39m, \u001b[32m4\u001b[39m, \u001b[32m6\u001b[39m)\r\n",
       "\u001b[36mis7InNums\u001b[39m: \u001b[32mBoolean\u001b[39m = \u001b[32mfalse\u001b[39m\r\n",
       "\u001b[36msetHasNoDuplicates\u001b[39m: \u001b[32mSet\u001b[39m[\u001b[32mInt\u001b[39m] = \u001b[33mSet\u001b[39m(\u001b[32m1\u001b[39m, \u001b[32m2\u001b[39m, \u001b[32m3\u001b[39m, \u001b[32m4\u001b[39m)"
      ]
     },
     "execution_count": 15,
     "metadata": {},
     "output_type": "execute_result"
    }
   ],
   "source": [
    "val nums = List(1, 2, 3, 4, 5, 6)  // List Collection of some Ints\n",
    "\n",
    "val numsX2 = nums.map(num => num * 2)  // map function on List; iterate and multiply by 2 \n",
    "val onlyEvenNums = nums.filter(num => num % 2 == 0) // filter function on List; iterate and keep if divisible by 2\n",
    "val is7InNums = nums.exists(num => num == 7) // exist function on List; iterate and see if item exists inside equal to 7\n",
    "\n",
    "val setHasNoDuplicates = Set(1, 2, 3, 3, 4)  // Set Collection of Ints, a Set contains no duplicates\n",
    "// TODO add comments + more examples"
   ]
  },
  {
   "cell_type": "markdown",
   "metadata": {},
   "source": [
    "### for-expressions"
   ]
  },
  {
   "cell_type": "code",
   "execution_count": 14,
   "metadata": {
    "collapsed": false
   },
   "outputs": [
    {
     "data": {
      "text/plain": [
       "\u001b[36mnums\u001b[39m: \u001b[32mList\u001b[39m[\u001b[32mInt\u001b[39m] = \u001b[33mList\u001b[39m(\u001b[32m1\u001b[39m, \u001b[32m2\u001b[39m, \u001b[32m3\u001b[39m)\r\n",
       "\u001b[36mnums2\u001b[39m: \u001b[32mList\u001b[39m[\u001b[32mInt\u001b[39m] = \u001b[33mList\u001b[39m(\u001b[32m1\u001b[39m, \u001b[32m10\u001b[39m)\r\n",
       "\u001b[36maddTwo\u001b[39m: \u001b[32mList\u001b[39m[\u001b[32mInt\u001b[39m] = \u001b[33mList\u001b[39m(\u001b[32m3\u001b[39m, \u001b[32m4\u001b[39m, \u001b[32m5\u001b[39m)\r\n",
       "\u001b[36mmultiplyNums\u001b[39m: \u001b[32mList\u001b[39m[\u001b[32mInt\u001b[39m] = \u001b[33mList\u001b[39m(\u001b[32m1\u001b[39m, \u001b[32m10\u001b[39m, \u001b[32m2\u001b[39m, \u001b[32m20\u001b[39m, \u001b[32m3\u001b[39m, \u001b[32m30\u001b[39m)"
      ]
     },
     "execution_count": 14,
     "metadata": {},
     "output_type": "execute_result"
    }
   ],
   "source": [
    "val nums = List(1, 2, 3)\n",
    "val nums2 = List(1, 10)\n",
    "\n",
    "val addTwo = for {\n",
    "  num <- nums  // this is a generator\n",
    "} yield num + 2  // simple for expression with 1 generator to iterate over a List and add 2 to each element\n",
    "\n",
    "val multiplyNums = for {\n",
    "  num <- nums   // this is the first generator\n",
    "  num2 <- nums2 // this is the second generator\n",
    "} yield num * num2 // with 2 generators for each num we go through all the nums2 (1, 10, then 2, 20, finally 3, 30)"
   ]
  }
 ],
 "metadata": {
  "kernelspec": {
   "display_name": "Scala",
   "language": "scala",
   "name": "scala"
  },
  "language_info": {
   "codemirror_mode": "text/x-scala",
   "file_extension": ".scala",
   "mimetype": "text/x-scala",
   "name": "scala211",
   "nbconvert_exporter": "scala",
   "pygments_lexer": "scala",
   "version": "2.11.8"
  }
 },
 "nbformat": 4,
 "nbformat_minor": 2
}
