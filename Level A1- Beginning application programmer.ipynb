{
 "cells": [
  {
   "cell_type": "markdown",
   "metadata": {},
   "source": [
    "# Level A1: Beginning application programmer\n",
    "Taken from [Odersky's suggestion](http://www.scala-lang.org/old/node/8610)\n",
    "\n",
    "* Java-like statements and expressions: standard operators, method calls, conditionals, loops, try/catch\n",
    "* class, object, def, val, var, import, package\n",
    "* Infix notation for method calls\n",
    "* Simple closures\n",
    "* Collections with map, filter, etc\n",
    "* for-expressions\n",
    "\n",
    "Providing examples of each of the concepts - under my personal criteria"
   ]
  },
  {
   "cell_type": "markdown",
   "metadata": {},
   "source": [
    "### Java-like statements and expressions: standard operators, method calls, conditionals, loops, try/catch"
   ]
  },
  {
   "cell_type": "code",
   "execution_count": 1,
   "metadata": {
    "collapsed": false
   },
   "outputs": [
    {
     "name": "stdout",
     "output_type": "stream",
     "text": [
      "We are in the conditionals segment\n",
      "Adding 2 isn't enough\n",
      "End of conditionals segment \n",
      "\n",
      "We are in the loops segment\n",
      "This is iteration number: 1\n",
      "This is iteration number: 2\n",
      "This is iteration number: 3\n",
      "This is iteration number: 4\n",
      "This is iteration number: 5\n",
      "Iterating once again, iteration number: 0\n",
      "Iterating once again, iteration number: 1\n",
      "Iterating once again, iteration number: 2\n",
      "End of loops segment \n",
      "\n",
      "We are in try/catch segment\n",
      "empty.max will throw an UnsupportedOperationException\n",
      "End of try/catch segment\n"
     ]
    },
    {
     "data": {
      "text/plain": [
       "\u001b[36madding\u001b[39m: \u001b[32mInt\u001b[39m = \u001b[32m8\u001b[39m\r\n",
       "\u001b[36mnegative\u001b[39m: \u001b[32mInt\u001b[39m = \u001b[32m-4\u001b[39m\r\n",
       "\u001b[36misHigherNum\u001b[39m: \u001b[32mBoolean\u001b[39m = \u001b[32mtrue\u001b[39m\r\n",
       "\u001b[36mshouldBeTrue\u001b[39m: \u001b[32mBoolean\u001b[39m = \u001b[32mtrue\u001b[39m\r\n",
       "defined \u001b[32mfunction\u001b[39m \u001b[36maddTwo\u001b[39m\r\n",
       "\u001b[36mgoingToAdd2\u001b[39m: \u001b[32mInt\u001b[39m = \u001b[32m4\u001b[39m\r\n",
       "\u001b[36mj\u001b[39m: \u001b[32mInt\u001b[39m = \u001b[32m3\u001b[39m\r\n",
       "\u001b[36mres0_15\u001b[39m: \u001b[32mAnyVal\u001b[39m = ()"
      ]
     },
     "execution_count": 1,
     "metadata": {},
     "output_type": "execute_result"
    }
   ],
   "source": [
    "// some standard operators (assignment, arithmetic, relational, logical)\n",
    "val adding = 1 + 7\n",
    "val negative = 1 + -5\n",
    "val isHigherNum = 5 > 1\n",
    "val shouldBeTrue = (1 > 0) || (4 == 2)\n",
    "\n",
    "// method call\n",
    "def addTwo(numToAdd: Int) = numToAdd + 2\n",
    "// will call addTwo method which takes in Int 2 as a parameter and will return Int 4\n",
    "val goingToAdd2 = addTwo(2)  \n",
    "\n",
    "// conditionals\n",
    "println(\"We are in the conditionals segment\")\n",
    "if(addTwo(5) > 10) println(\"Looks like you met the requirement\") else println(\"Adding 2 isn't enough\")\n",
    "println(\"End of conditionals segment \\n\")\n",
    "\n",
    "// loops\n",
    "println(\"We are in the loops segment\")\n",
    "// loops from 1 to 5 (inclusive on range and prints line each loop)\n",
    "for (i <- 1 to 5) println(s\"This is iteration number: $i\") \n",
    "\n",
    "var j = 0\n",
    "// ';' character is used when multiple statements are on a single line\n",
    "while (j < 3) { println(s\"Iterating once again, iteration number: $j\"); j += 1 } \n",
    "println(\"End of loops segment \\n\")\n",
    "\n",
    "// try/catch\n",
    "println(\"We are in try/catch segment\")\n",
    "try {\n",
    "  val emptyList: List[Int] = List()  // creating an empty List\n",
    "  emptyList.max  // not possible to find a max in an empty List\n",
    "} catch {\n",
    "  case e: UnsupportedOperationException => \n",
    "    println(e.getLocalizedMessage + \" will throw an UnsupportedOperationException\")\n",
    "}\n",
    "println(\"End of try/catch segment\")"
   ]
  },
  {
   "cell_type": "markdown",
   "metadata": {},
   "source": [
    "### class, object, def, val, var, import, package"
   ]
  },
  {
   "cell_type": "code",
   "execution_count": 1,
   "metadata": {
    "collapsed": false
   },
   "outputs": [
    {
     "name": "stdout",
     "output_type": "stream",
     "text": [
      "My name is Tanjin and I am 25 years old\n",
      "Today was my birthday, I am now 21 years old\n",
      "changingPerson is completely different now, \n",
      "before his name was Panna, now it's Joe\n",
      "My name is Tanjin but I am going to change it to John\n",
      "My name is John but I prefer my old name, \n",
      "so I'll change again to Tanjin\n"
     ]
    },
    {
     "data": {
      "text/plain": [
       "defined \u001b[32mclass\u001b[39m \u001b[36mPerson\u001b[39m\r\n",
       "\u001b[36mperson\u001b[39m: \u001b[32mPerson\u001b[39m = $sess.cmd0Wrapper$Helper$Person@578c1a84\r\n",
       "\u001b[36mchangingPerson\u001b[39m: \u001b[32mPerson\u001b[39m = $sess.cmd0Wrapper$Helper$Person@1959c781\r\n",
       "\u001b[36moldName\u001b[39m: \u001b[32mString\u001b[39m = \u001b[32m\"Panna\"\u001b[39m\r\n",
       "defined \u001b[32mobject\u001b[39m \u001b[36mPerson\u001b[39m\r\n",
       "\u001b[36mnewName\u001b[39m: \u001b[32mString\u001b[39m = \u001b[32m\"John\"\u001b[39m\r\n",
       "\u001b[32mimport \u001b[39m\u001b[36mPerson.changeName\r\n",
       "\u001b[39m\r\n",
       "\u001b[36moriginalName\u001b[39m: \u001b[32mString\u001b[39m = \u001b[32m\"Tanjin\"\u001b[39m"
      ]
     },
     "execution_count": 1,
     "metadata": {},
     "output_type": "execute_result"
    }
   ],
   "source": [
    "// defined a class for person (can think of as POJO)\n",
    "class Person(\n",
    "  var name: String,\n",
    "  var age: Int)\n",
    "\n",
    "// instantiated a new Person, note a val is used -> cannot reassign person to a different Person\n",
    "val person = new Person(\"Tanjin\", 25)\n",
    "// using String interpolation to access values from person\n",
    "println(s\"My name is ${person.name} and I am ${person.age} years old\") \n",
    "\n",
    " // instantiated a new Person with the age 20, note a var is used\n",
    "var changingPerson = new Person(\"Panna\", 20)\n",
    "// changed the age to 21 -> this is possible because we have a var (mutable)\n",
    "changingPerson.age = 21 \n",
    "println(s\"Today was my birthday, I am now ${changingPerson.age} years old\")\n",
    "\n",
    "val oldName = changingPerson.name  // storing the name of changingPerson\n",
    " // changingPerson is now a different person, possible because of var. The type (Person) must be preserved\n",
    "changingPerson = new Person(\"Joe\", 30)\n",
    "println(s\"\"\"changingPerson is completely different now, \n",
    "before his name was $oldName, now it's ${changingPerson.name}\"\"\")\n",
    "\n",
    "// defined a Person object -> it is a 'companion' object, used for containing utils of Person class\n",
    "object Person { \n",
    "  // defined a method to change the name of a person given a new name and the person\n",
    "  // we then return the new name\n",
    "  def changeName(name: String, person: Person): String = { person.name = name; person.name } \n",
    "}\n",
    "\n",
    "val newName = \"John\"  // storing the new name I want\n",
    "// using String interpolation to call methods\n",
    "// notice the object method call (Person.changeName(newName, person))\n",
    "println(s\"My name is ${person.name} but I am going to change it to ${Person.changeName(newName, person)}\")\n",
    "\n",
    "// like Java, we can importa class or a method in this case for easier calling\n",
    "import Person.changeName\n",
    "val originalName = \"Tanjin\"\n",
    "// we see here that we don't need the fully qualified def name, since we have imported it\n",
    "println(s\"\"\"My name is ${person.name} but I prefer my old name, \n",
    "so I'll change again to ${changeName(originalName, person)}\"\"\")"
   ]
  },
  {
   "cell_type": "markdown",
   "metadata": {},
   "source": [
    "### Infix notation for method calls"
   ]
  },
  {
   "cell_type": "code",
   "execution_count": 2,
   "metadata": {
    "collapsed": false
   },
   "outputs": [
    {
     "data": {
      "text/plain": [
       "\u001b[36maddingNums\u001b[39m: \u001b[32mInt\u001b[39m = \u001b[32m2\u001b[39m\r\n",
       "defined \u001b[32mfunction\u001b[39m \u001b[36maddOne\u001b[39m\r\n",
       "\u001b[36maddingWFunction\u001b[39m: \u001b[32mOption\u001b[39m[\u001b[32mInt\u001b[39m] = \u001b[33mSome\u001b[39m(\u001b[32m2\u001b[39m)"
      ]
     },
     "execution_count": 2,
     "metadata": {},
     "output_type": "execute_result"
    }
   ],
   "source": [
    "val addingNums = 1 + 1   // infix notation with an AnyVal\n",
    "// alternatively without infix notation: val addingNums = 1.+(1)\n",
    "\n",
    "def addOne(num: Int) = num + 1\n",
    "val addingWFunction = Some(1) map addOne  //infix notation with a function (addOne)\n",
    "// alternatively without infix notation: val addingWFunction = Some(1).map(addOne)"
   ]
  },
  {
   "cell_type": "markdown",
   "metadata": {},
   "source": [
    "### Simple closures"
   ]
  },
  {
   "cell_type": "code",
   "execution_count": 2,
   "metadata": {
    "collapsed": false
   },
   "outputs": [
    {
     "data": {
      "text/plain": [
       "\u001b[36moutsideNums\u001b[39m: \u001b[32mList\u001b[39m[\u001b[32mInt\u001b[39m] = \u001b[33mList\u001b[39m(\u001b[32m10\u001b[39m, \u001b[32m9\u001b[39m, \u001b[32m8\u001b[39m)\r\n",
       "\u001b[36msimpleNums\u001b[39m: \u001b[32mList\u001b[39m[\u001b[32mInt\u001b[39m] = \u001b[33mList\u001b[39m(\u001b[32m1\u001b[39m, \u001b[32m2\u001b[39m, \u001b[32m3\u001b[39m)\r\n",
       "\u001b[36mcombineLists\u001b[39m: \u001b[32mList\u001b[39m[\u001b[32mInt\u001b[39m] => \u001b[32mList\u001b[39m[\u001b[32mInt\u001b[39m] = <function1>\r\n",
       "\u001b[36mfirstGo\u001b[39m: \u001b[32mList\u001b[39m[\u001b[32mInt\u001b[39m] = \u001b[33mList\u001b[39m(\u001b[32m1\u001b[39m, \u001b[32m2\u001b[39m, \u001b[32m3\u001b[39m, \u001b[32m4\u001b[39m, \u001b[32m5\u001b[39m, \u001b[32m6\u001b[39m)\r\n",
       "\u001b[36msecondGo\u001b[39m: \u001b[32mList\u001b[39m[\u001b[32mInt\u001b[39m] = \u001b[33mList\u001b[39m(\u001b[32m1\u001b[39m, \u001b[32m2\u001b[39m, \u001b[32m3\u001b[39m, \u001b[32m10\u001b[39m, \u001b[32m9\u001b[39m, \u001b[32m8\u001b[39m)"
      ]
     },
     "execution_count": 2,
     "metadata": {},
     "output_type": "execute_result"
    }
   ],
   "source": [
    "var outsideNums = List(4, 5, 6)  // list of Ints\n",
    "val simpleNums = List(1, 2 ,3)\n",
    "\n",
    "// function literal that takes in a List of Ints (x) and concatenates with \n",
    "// list (outsideNums) outside of function\n",
    "val combineLists = (x: List[Int]) => x ++ outsideNums  \n",
    "\n",
    "// returns a single list consisting of all elements of simpleNums and outsideNums\n",
    "val firstGo = combineLists(simpleNums) \n",
    "\n",
    "outsideNums = List(10, 9, 8)  // changing value for outsideNums\n",
    "\n",
    "// returns a single list consisting of all elements of simpleNums and updated outsideNums\n",
    "val secondGo = combineLists(simpleNums) "
   ]
  },
  {
   "cell_type": "markdown",
   "metadata": {},
   "source": [
    "### Collections with map, filter, etc"
   ]
  },
  {
   "cell_type": "code",
   "execution_count": null,
   "metadata": {
    "collapsed": false
   },
   "outputs": [],
   "source": [
    "val nums = List(1, 2, 3, 4, 5, 6)  // List Collection of some Ints\n",
    "\n",
    "val numsX2 = nums.map(num => num * 2)  // map function on List; iterate and multiply by 2\n",
    "// filter function on List; iterate and keep if divisible by 2\n",
    "val onlyEvenNums = nums.filter(num => num % 2 == 0) \n",
    " // exist function on List; iterate and see if item exists inside equal to 7\n",
    "val is7InNums = nums.exists(num => num == 7)\n",
    "\n",
    "val setHasNoDuplicates = Set(1, 2, 3, 3, 4)  // Set Collection of Ints, a Set contains no duplicates\n",
    "\n",
    "val x = setHasNoDuplicates.foreach(_ + 7)"
   ]
  },
  {
   "cell_type": "markdown",
   "metadata": {},
   "source": [
    "### for-expressions"
   ]
  },
  {
   "cell_type": "code",
   "execution_count": 4,
   "metadata": {
    "collapsed": false
   },
   "outputs": [
    {
     "data": {
      "text/plain": [
       "\u001b[36mnums\u001b[39m: \u001b[32mList\u001b[39m[\u001b[32mInt\u001b[39m] = \u001b[33mList\u001b[39m(\u001b[32m1\u001b[39m, \u001b[32m2\u001b[39m, \u001b[32m3\u001b[39m)\r\n",
       "\u001b[36mnums2\u001b[39m: \u001b[32mList\u001b[39m[\u001b[32mInt\u001b[39m] = \u001b[33mList\u001b[39m(\u001b[32m1\u001b[39m, \u001b[32m10\u001b[39m)\r\n",
       "\u001b[36maddTwo\u001b[39m: \u001b[32mList\u001b[39m[\u001b[32mInt\u001b[39m] = \u001b[33mList\u001b[39m(\u001b[32m3\u001b[39m, \u001b[32m4\u001b[39m, \u001b[32m5\u001b[39m)\r\n",
       "\u001b[36mmultiplyNums\u001b[39m: \u001b[32mList\u001b[39m[\u001b[32mInt\u001b[39m] = \u001b[33mList\u001b[39m(\u001b[32m1\u001b[39m, \u001b[32m10\u001b[39m, \u001b[32m2\u001b[39m, \u001b[32m20\u001b[39m, \u001b[32m3\u001b[39m, \u001b[32m30\u001b[39m)"
      ]
     },
     "execution_count": 4,
     "metadata": {},
     "output_type": "execute_result"
    }
   ],
   "source": [
    "val nums = List(1, 2, 3)\n",
    "val nums2 = List(1, 10)\n",
    "\n",
    "// simple for expression with 1 generator to iterate over a List and add 2 to each element\n",
    "val addTwo = for {\n",
    "  num <- nums  // this is a generator\n",
    "} yield num + 2  \n",
    "\n",
    "// with 2 generators for each num we go through all the nums2 (1, 10, then 2, 20, finally 3, 30)\n",
    "val multiplyNums = for {\n",
    "  num <- nums   // this is the first generator\n",
    "  num2 <- nums2 // this is the second generator\n",
    "} yield num * num2 "
   ]
  }
 ],
 "metadata": {
  "kernelspec": {
   "display_name": "Scala",
   "language": "scala",
   "name": "scala"
  },
  "language_info": {
   "codemirror_mode": "text/x-scala",
   "file_extension": ".scala",
   "mimetype": "text/x-scala",
   "name": "scala211",
   "nbconvert_exporter": "scala",
   "pygments_lexer": "scala",
   "version": "2.11.8"
  }
 },
 "nbformat": 4,
 "nbformat_minor": 2
}
