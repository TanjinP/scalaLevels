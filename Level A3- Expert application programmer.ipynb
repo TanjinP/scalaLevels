{
 "cells": [
  {
   "cell_type": "markdown",
   "metadata": {},
   "source": [
    "# Level A3: Expert application programmer\n",
    "Taken from [Odersky's suggestion](http://www.scala-lang.org/old/node/8610)\n",
    "\n",
    "* Folds, i.e. methods such as foldLeft, foldRight\n",
    "* Streams and other lazy data structures\n",
    "* Actors\n",
    "* Combinator parsers\n",
    "\n",
    "Providing examples of each of the concepts - under my personal criteria"
   ]
  },
  {
   "cell_type": "markdown",
   "metadata": {
    "collapsed": true
   },
   "source": [
    "### Folds, i.e. methods such as foldLeft, foldRight\n"
   ]
  },
  {
   "cell_type": "code",
   "execution_count": 3,
   "metadata": {
    "collapsed": false
   },
   "outputs": [
    {
     "data": {
      "text/plain": [
       "\u001b[36mnums\u001b[39m: \u001b[32mList\u001b[39m[\u001b[32mInt\u001b[39m] = \u001b[33mList\u001b[39m(\u001b[32m1\u001b[39m, \u001b[32m2\u001b[39m, \u001b[32m3\u001b[39m, \u001b[32m4\u001b[39m)\r\n",
       "\u001b[36mfoldingLeftMap\u001b[39m: \u001b[32mMap\u001b[39m[\u001b[32mInt\u001b[39m, \u001b[32mString\u001b[39m] = \u001b[33mMap\u001b[39m(\n",
       "  \u001b[32m1\u001b[39m -> \u001b[32m\"This Entry's key is: 1\"\u001b[39m,\n",
       "  \u001b[32m2\u001b[39m -> \u001b[32m\"This Entry's key is: 2\"\u001b[39m,\n",
       "  \u001b[32m3\u001b[39m -> \u001b[32m\"This Entry's key is: 3\"\u001b[39m,\n",
       "  \u001b[32m4\u001b[39m -> \u001b[32m\"This Entry's key is: 4\"\u001b[39m\n",
       ")\r\n",
       "\u001b[36mfoldingRightMap\u001b[39m: \u001b[32mMap\u001b[39m[\u001b[32mInt\u001b[39m, \u001b[32mString\u001b[39m] = \u001b[33mMap\u001b[39m(\n",
       "  \u001b[32m4\u001b[39m -> \u001b[32m\"This Entry's key is: 4\"\u001b[39m,\n",
       "  \u001b[32m3\u001b[39m -> \u001b[32m\"This Entry's key is: 3\"\u001b[39m,\n",
       "  \u001b[32m2\u001b[39m -> \u001b[32m\"This Entry's key is: 2\"\u001b[39m,\n",
       "  \u001b[32m1\u001b[39m -> \u001b[32m\"This Entry's key is: 1\"\u001b[39m\n",
       ")"
      ]
     },
     "execution_count": 3,
     "metadata": {},
     "output_type": "execute_result"
    }
   ],
   "source": [
    "val nums = List(1, 2, 3, 4)\n",
    "\n",
    "// Constructing a Map from a List using foldLeft\n",
    "val foldingLeftMap = nums.foldLeft(Map.empty[Int, String])((map, number) =>\n",
    "  map + (number -> s\"This Entry's key is: $number\")\n",
    ")\n",
    "\n",
    "// Same idea done using foldRight, notice param order\n",
    "val foldingRightMap = nums.foldRight(Map.empty[Int, String])((number, map) =>\n",
    "  map + (number -> s\"This Entry's key is: $number\")\n",
    ")"
   ]
  },
  {
   "cell_type": "markdown",
   "metadata": {},
   "source": [
    "### Streams and other lazy data structures\n"
   ]
  },
  {
   "cell_type": "code",
   "execution_count": null,
   "metadata": {
    "collapsed": true
   },
   "outputs": [],
   "source": []
  },
  {
   "cell_type": "markdown",
   "metadata": {},
   "source": [
    "### Actors"
   ]
  },
  {
   "cell_type": "code",
   "execution_count": null,
   "metadata": {
    "collapsed": true
   },
   "outputs": [],
   "source": []
  },
  {
   "cell_type": "markdown",
   "metadata": {},
   "source": [
    "### Combinator parsers"
   ]
  },
  {
   "cell_type": "code",
   "execution_count": null,
   "metadata": {
    "collapsed": true
   },
   "outputs": [],
   "source": []
  }
 ],
 "metadata": {
  "kernelspec": {
   "display_name": "Scala",
   "language": "scala",
   "name": "scala"
  },
  "language_info": {
   "codemirror_mode": "text/x-scala",
   "file_extension": ".scala",
   "mimetype": "text/x-scala",
   "name": "scala211",
   "nbconvert_exporter": "script",
   "pygments_lexer": "scala",
   "version": "2.11.11"
  }
 },
 "nbformat": 4,
 "nbformat_minor": 2
}
